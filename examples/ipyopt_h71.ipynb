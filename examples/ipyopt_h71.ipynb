{
 "cells": [
  {
   "cell_type": "markdown",
   "metadata": {},
   "source": [
    "# Constrained Optimization"
   ]
  },
  {
   "cell_type": "markdown",
   "metadata": {},
   "source": [
    "###  Using `ipyopt` to solve a simple constrained optimization problem:\n",
    "Author: \"Eric Xu. Washington University\""
   ]
  },
  {
   "cell_type": "markdown",
   "metadata": {},
   "source": [
    "#### Problem Definition:"
   ]
  },
  {
   "cell_type": "markdown",
   "metadata": {},
   "source": [
    "\n",
    "The same model as Ipopt/examples/hs071. You can set Ipopt options by calling nlp.set.\n",
    "For instance, to set the tolarance by calling: `nlp.set(tol=1e-8)`\n",
    "\n",
    "For a complete list of Ipopt options, refer to http://www.coin-or.org/Ipopt/documentation/node59.html"
   ]
  },
  {
   "cell_type": "markdown",
   "metadata": {},
   "source": [
    "\\begin{equation*}\n",
    "\\begin{aligned}\n",
    "& \\underset{\\mathbf{x}\\ \\epsilon\\ \\mathbb{R}^4}{\\text{min}}\n",
    "&& x_1x_4(x_1+x_2+x_3) \\\\\n",
    "& \\text{s.t.}\n",
    "&& x_1x_2x_3x_4\\geq25\\\\\n",
    "&&& x_1^2 + x_2^2 + x_3^2 + x_4^2 = 40\\\\\n",
    "&&& 1\\leq \\mathbf{x} \\leq 5.\n",
    "\n",
    "\\end{aligned}\n",
    "\\end{equation*}"
   ]
  },
  {
   "cell_type": "markdown",
   "metadata": {},
   "source": [
    "#### Import necessary libraries:"
   ]
  },
  {
   "cell_type": "code",
   "execution_count": 1,
   "metadata": {},
   "outputs": [],
   "source": [
    "from __future__ import print_function\n",
    "import ipyopt\n",
    "from numpy import float_\n",
    "import numpy as np"
   ]
  },
  {
   "cell_type": "markdown",
   "metadata": {},
   "source": [
    "#### Define bounds on the variable and constraints:"
   ]
  },
  {
   "cell_type": "code",
   "execution_count": 2,
   "metadata": {},
   "outputs": [],
   "source": [
    "nvar = 4 # number of variables\n",
    "ncon = 2 # number of constraints\n",
    "\n",
    "x_L = np.ones((nvar), dtype=float_) * 1.0 # lower bounds on x\n",
    "x_U = np.ones((nvar), dtype=float_) * 5.0 # upper bounds on x\n",
    "\n",
    "g_L = np.array([25.0, 40.0]) # lower bounds on g(x)\n",
    "g_U = np.array([2.0e19, 40.0]) # upper bounds on g(x)"
   ]
  },
  {
   "cell_type": "markdown",
   "metadata": {},
   "source": [
    "#### Define the objective function and its derivative:"
   ]
  },
  {
   "cell_type": "code",
   "execution_count": 3,
   "metadata": {},
   "outputs": [],
   "source": [
    "# define f(x):\n",
    "def eval_f(x):\n",
    "    assert len(x) == nvar\n",
    "    return x[0] * x[3] * (x[0] + x[1] + x[2]) + x[2]\n",
    "\n",
    "# gradient of f(x):\n",
    "def eval_grad_f(x, out):\n",
    "    assert len(x) == nvar\n",
    "    out[0] = x[0] * x[3] + x[3] * (x[0] + x[1] + x[2])\n",
    "    out[1] = x[0] * x[3]\n",
    "    out[2] = x[0] * x[3] + 1.0\n",
    "    out[3] = x[0] * (x[0] + x[1] + x[2])\n",
    "    return out"
   ]
  },
  {
   "cell_type": "markdown",
   "metadata": {},
   "source": [
    "#### Define constraints and their derivatives:"
   ]
  },
  {
   "cell_type": "code",
   "execution_count": 4,
   "metadata": {},
   "outputs": [],
   "source": [
    "# define the constraints g_1(x) and g_2(x):\n",
    "def eval_g(x, out):\n",
    "    assert len(x) == nvar\n",
    "    out[0] = x[0] * x[1] * x[2] * x[3]\n",
    "    out[1] = x[0] * x[0] + x[1] * x[1] + x[2] * x[2] + x[3] * x[3]\n",
    "    return out\n",
    "\n",
    "# gradient of constraints g_1(x) and g_2(x):\n",
    "def eval_jac_g(x, out):\n",
    "    assert len(x) == nvar\n",
    "    out[()] = [x[1] * x[2] * x[3],\n",
    "               x[0] * x[2] * x[3],\n",
    "               x[0] * x[1] * x[3],\n",
    "               x[0] * x[1] * x[2],\n",
    "               2.0 * x[0],\n",
    "               2.0 * x[1],\n",
    "               2.0 * x[2],\n",
    "               2.0 * x[3]]\n",
    "    return out\n",
    "\n",
    "\n",
    "eval_jac_g.sparsity_indices = (np.array([0, 0, 0, 0, 1, 1, 1, 1]),\n",
    "                               np.array([0, 1, 2, 3, 0, 1, 2, 3]))"
   ]
  },
  {
   "cell_type": "markdown",
   "metadata": {},
   "source": [
    "#### Define Lagrange:"
   ]
  },
  {
   "cell_type": "code",
   "execution_count": 5,
   "metadata": {},
   "outputs": [],
   "source": [
    "# hessian of the lagrangian:\n",
    "def eval_h(x, lagrange, obj_factor, out):\n",
    "    out[0] = obj_factor * (2 * x[3])\n",
    "    out[1] = obj_factor * (x[3])\n",
    "    out[2] = 0\n",
    "    out[3] = obj_factor * (x[3])\n",
    "    out[4] = 0\n",
    "    out[5] = 0\n",
    "    out[6] = obj_factor * (2 * x[0] + x[1] + x[2])\n",
    "    out[7] = obj_factor * (x[0])\n",
    "    out[8] = obj_factor * (x[0])\n",
    "    out[9] = 0\n",
    "    out[1] += lagrange[0] * (x[2] * x[3])\n",
    "\n",
    "    out[3] += lagrange[0] * (x[1] * x[3])\n",
    "    out[4] += lagrange[0] * (x[0] * x[3])\n",
    "\n",
    "    out[6] += lagrange[0] * (x[1] * x[2])\n",
    "    out[7] += lagrange[0] * (x[0] * x[2])\n",
    "    out[8] += lagrange[0] * (x[0] * x[1])\n",
    "    out[0] += lagrange[1] * 2\n",
    "    out[2] += lagrange[1] * 2\n",
    "    out[5] += lagrange[1] * 2\n",
    "    out[9] += lagrange[1] * 2\n",
    "    return out\n",
    "\n",
    "\n",
    "eval_h.sparsity_indices = (np.array([0, 1, 1, 2, 2, 2, 3, 3, 3, 3]),\n",
    "                           np.array([0, 0, 1, 0, 1, 2, 0, 1, 2, 3]))"
   ]
  },
  {
   "cell_type": "code",
   "execution_count": 6,
   "metadata": {},
   "outputs": [],
   "source": [
    "def apply_new(_x):\n",
    "    return True"
   ]
  },
  {
   "cell_type": "markdown",
   "metadata": {},
   "source": [
    "#### Set the problem up:"
   ]
  },
  {
   "cell_type": "code",
   "execution_count": 7,
   "metadata": {},
   "outputs": [],
   "source": [
    "# feed in the problem data:\n",
    "nlp = ipyopt.Problem(nvar, x_L, x_U, ncon, g_L, g_U, eval_jac_g.sparsity_indices,\n",
    "                     eval_h.sparsity_indices, eval_f, eval_grad_f, eval_g, eval_jac_g)"
   ]
  },
  {
   "cell_type": "markdown",
   "metadata": {},
   "source": [
    "#### Initialize the problem:"
   ]
  },
  {
   "cell_type": "code",
   "execution_count": 8,
   "metadata": {},
   "outputs": [],
   "source": [
    "# initialize the problem:\n",
    "\n",
    "x0 = np.array([1.0, 5.0, 5.0, 1.0])\n",
    "pi0 = np.array([1.0, 1.0])\n",
    "zl = np.zeros(nvar)\n",
    "zu = np.zeros(nvar)\n",
    "constraint_multipliers = np.zeros(ncon)"
   ]
  },
  {
   "cell_type": "markdown",
   "metadata": {},
   "source": [
    "#### Invoke the solver:"
   ]
  },
  {
   "cell_type": "code",
   "execution_count": 9,
   "metadata": {},
   "outputs": [
    {
     "name": "stdout",
     "output_type": "stream",
     "text": [
      "\n",
      "******************************************************************************\n",
      "This program contains Ipopt, a library for large-scale nonlinear optimization.\n",
      " Ipopt is released as open source code under the Eclipse Public License (EPL).\n",
      "         For more information visit http://projects.coin-or.org/Ipopt\n",
      "******************************************************************************\n",
      "\n",
      "This is Ipopt version 3.12.12, running with linear solver mumps.\n",
      "NOTE: Other linear solvers might be more efficient (see Ipopt documentation).\n",
      "\n",
      "Number of nonzeros in equality constraint Jacobian...:        4\n",
      "Number of nonzeros in inequality constraint Jacobian.:        4\n",
      "Number of nonzeros in Lagrangian Hessian.............:        0\n",
      "\n",
      "Total number of variables............................:        4\n",
      "                     variables with only lower bounds:        0\n",
      "                variables with lower and upper bounds:        4\n",
      "                     variables with only upper bounds:        0\n",
      "Total number of equality constraints.................:        1\n",
      "Total number of inequality constraints...............:        1\n",
      "        inequality constraints with only lower bounds:        1\n",
      "   inequality constraints with lower and upper bounds:        0\n",
      "        inequality constraints with only upper bounds:        0\n",
      "\n",
      "iter    objective    inf_pr   inf_du lg(mu)  ||d||  lg(rg) alpha_du alpha_pr  ls\n",
      "   0  1.6109693e+01 1.12e+01 5.28e-01   0.0 0.00e+00    -  0.00e+00 0.00e+00   0\n",
      "   1  1.7420709e+01 7.49e-01 2.40e+01  -0.3 8.13e-01    -  3.20e-01 1.00e+00f  1\n",
      "   2  1.7120453e+01 2.14e-01 2.00e-01  -0.6 1.02e+00    -  9.97e-01 1.00e+00h  1\n",
      "   3  1.6979032e+01 1.70e-01 8.49e-02  -1.6 1.18e-01    -  9.72e-01 1.00e+00h  1\n",
      "   4  1.6972554e+01 7.69e-02 1.20e-02  -3.2 8.01e-02    -  1.00e+00 1.00e+00h  1\n",
      "   5  1.7013661e+01 6.75e-04 9.50e-03  -4.9 1.00e-02    -  1.00e+00 1.00e+00h  1\n",
      "   6  1.7014018e+01 1.96e-06 3.49e-04  -6.1 1.09e-03    -  1.00e+00 1.00e+00h  1\n",
      "   7  1.7014017e+01 1.47e-09 2.15e-07  -8.2 3.02e-05    -  1.00e+00 1.00e+00h  1\n",
      "   8  1.7014017e+01 0.00e+00 1.69e-09 -11.0 1.17e-08    -  1.00e+00 1.00e+00h  1\n",
      "\n",
      "Number of Iterations....: 8\n",
      "\n",
      "                                   (scaled)                 (unscaled)\n",
      "Objective...............:   1.7014017140224176e+01    1.7014017140224176e+01\n",
      "Dual infeasibility......:   1.6853158598871437e-09    1.6853158598871437e-09\n",
      "Constraint violation....:   0.0000000000000000e+00    0.0000000000000000e+00\n",
      "Complementarity.........:   1.0002952000760590e-11    1.0002952000760590e-11\n",
      "Overall NLP error.......:   1.6853158598871437e-09    1.6853158598871437e-09\n",
      "\n",
      "\n",
      "Number of objective function evaluations             = 9\n",
      "Number of objective gradient evaluations             = 9\n",
      "Number of equality constraint evaluations            = 9\n",
      "Number of inequality constraint evaluations          = 9\n",
      "Number of equality constraint Jacobian evaluations   = 9\n",
      "Number of inequality constraint Jacobian evaluations = 9\n",
      "Number of Lagrangian Hessian evaluations             = 0\n",
      "Total CPU secs in IPOPT (w/o function evaluations)   =      0.010\n",
      "Total CPU secs in NLP function evaluations           =      0.002\n",
      "\n",
      "EXIT: Optimal Solution Found.\n"
     ]
    }
   ],
   "source": [
    "# invoking the solver:\n",
    "_x, obj, status = nlp.solve(x0, mult_g=constraint_multipliers,\n",
    "                            mult_x_L=zl, mult_x_U=zu)\n",
    "\n",
    "# import pdb; pdb.set_trace()"
   ]
  },
  {
   "cell_type": "markdown",
   "metadata": {},
   "source": [
    "#### Print the results:"
   ]
  },
  {
   "cell_type": "code",
   "execution_count": 10,
   "metadata": {},
   "outputs": [
    {
     "name": "stdout",
     "output_type": "stream",
     "text": [
      "Solution of the primal variables, x\n",
      "x[0] = 1.0\n",
      "x[1] = 4.742999643601108\n",
      "x[2] = 3.821149978917085\n",
      "x[3] = 1.3794082932197205\n",
      "Solution of the bound multipliers, z_L and z_U\n",
      "z_L[0] = 1.0878712139005893\n",
      "z_L[1] = 2.6716538777348865e-12\n",
      "z_L[2] = 3.544655329808827e-12\n",
      "z_L[3] = 2.635647006356851e-11\n",
      "z_U[0] = 2.4999976286133306e-12\n",
      "z_U[1] = 3.891047017827691e-11\n",
      "z_U[2] = 8.482834077053658e-12\n",
      "z_U[3] = 2.7619833856498638e-12\n",
      "Solution of the constraint multipliers, lambda\n",
      "lambda[0] = -0.5522936593964765\n",
      "lambda[1] = 0.161468564092835\n",
      "Objective value\n",
      "f(x*) = 17.014017140224176\n"
     ]
    }
   ],
   "source": [
    "# print the solution:\n",
    "def print_variable(variable_name, value):\n",
    "    for i, val in enumerate(value):\n",
    "        print(\"{}[{}] = {}\".format(variable_name, i, val))\n",
    "\n",
    "\n",
    "print(\"Solution of the primal variables, x\")\n",
    "print_variable(\"x\", _x)\n",
    "\n",
    "print(\"Solution of the bound multipliers, z_L and z_U\")\n",
    "print_variable(\"z_L\", zl)\n",
    "print_variable(\"z_U\", zu)\n",
    "\n",
    "print(\"Solution of the constraint multipliers, lambda\")\n",
    "print_variable(\"lambda\", constraint_multipliers)\n",
    "\n",
    "print(\"Objective value\")\n",
    "print(\"f(x*) = {}\".format(obj))\n"
   ]
  },
  {
   "cell_type": "code",
   "execution_count": null,
   "metadata": {},
   "outputs": [],
   "source": []
  }
 ],
 "metadata": {
  "kernelspec": {
   "display_name": "Python 3",
   "language": "python",
   "name": "python3"
  },
  "language_info": {
   "codemirror_mode": {
    "name": "ipython",
    "version": 3
   },
   "file_extension": ".py",
   "mimetype": "text/x-python",
   "name": "python",
   "nbconvert_exporter": "python",
   "pygments_lexer": "ipython3",
   "version": "3.10.13"
  },
  "orig_nbformat": 4
 },
 "nbformat": 4,
 "nbformat_minor": 2
}
