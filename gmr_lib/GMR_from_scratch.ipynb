{
  "cells": [
    {
      "cell_type": "markdown",
      "metadata": {
        "colab_type": "text",
        "id": "view-in-github"
      },
      "source": [
        "<a href=\"https://colab.research.google.com/github/vbwanere/SEDS_in_jax/blob/main/gmm/GMM_from_Scratch.ipynb\" target=\"_parent\"><img src=\"https://colab.research.google.com/assets/colab-badge.svg\" alt=\"Open In Colab\"/></a>"
      ]
    },
    {
      "cell_type": "markdown",
      "metadata": {
        "id": "zza7h5yeVnfO"
      },
      "source": [
        "\n",
        "# **Project Title**"
      ]
    },
    {
      "cell_type": "markdown",
      "metadata": {},
      "source": [
        "Project desciption here..."
      ]
    },
    {
      "cell_type": "markdown",
      "metadata": {
        "id": "088rFBYIYySc"
      },
      "source": [
        "# 1\\. Section 1:"
      ]
    },
    {
      "cell_type": "markdown",
      "metadata": {},
      "source": [
        "\"\"\"\n",
        "sample markdown\n",
        "\"\"\""
      ]
    },
    {
      "cell_type": "markdown",
      "metadata": {
        "id": "6qTHFyX4yA29"
      },
      "source": [
        "## 1.1 Subsection 1:"
      ]
    },
    {
      "cell_type": "code",
      "execution_count": null,
      "metadata": {
        "id": "n99S1mARlEy7"
      },
      "outputs": [],
      "source": [
        "# sample code here"
      ]
    },
    {
      "cell_type": "markdown",
      "metadata": {},
      "source": [
        "sample figure here"
      ]
    },
    {
      "cell_type": "markdown",
      "metadata": {
        "id": "2ExL9IG1yW6a"
      },
      "source": [
        "## 1.2 Subsection 2:"
      ]
    },
    {
      "cell_type": "code",
      "execution_count": null,
      "metadata": {
        "id": "CR30IgmfCdLY"
      },
      "outputs": [],
      "source": [
        "\"\"\"\n",
        "sample code here\n",
        "\"\"\""
      ]
    },
    {
      "cell_type": "markdown",
      "metadata": {
        "id": "HJfARyN8CdLZ"
      },
      "source": [
        "### 1.2.1 item 1:"
      ]
    },
    {
      "cell_type": "code",
      "execution_count": null,
      "metadata": {
        "id": "TtlMyrxNCdLZ"
      },
      "outputs": [],
      "source": [
        "\"\"\"\n",
        "sample code here\n",
        "\"\"\""
      ]
    },
    {
      "cell_type": "markdown",
      "metadata": {
        "id": "FfplmKDVCdLZ"
      },
      "source": [
        "### 1.2.2 item 2:"
      ]
    },
    {
      "cell_type": "code",
      "execution_count": null,
      "metadata": {
        "id": "NB0Bbu1eF_Di"
      },
      "outputs": [],
      "source": [
        "\"\"\"\n",
        "sample code here\n",
        "\"\"\""
      ]
    },
    {
      "cell_type": "markdown",
      "metadata": {
        "id": "ZoqiWpv33pC3"
      },
      "source": [
        "# 2\\. Section 2:"
      ]
    },
    {
      "cell_type": "markdown",
      "metadata": {
        "id": "0xk0UZ_h30xU"
      },
      "source": [
        "## 2.1\\. Subsection 1:\n",
        "### Subsection description in one line:"
      ]
    }
  ],
  "metadata": {
    "colab": {
      "include_colab_link": true,
      "provenance": []
    },
    "kernelspec": {
      "display_name": "Python 3",
      "name": "python3"
    },
    "language_info": {
      "codemirror_mode": {
        "name": "ipython",
        "version": 3
      },
      "file_extension": ".py",
      "mimetype": "text/x-python",
      "name": "python",
      "nbconvert_exporter": "python",
      "pygments_lexer": "ipython3",
      "version": "3.10.12"
    }
  },
  "nbformat": 4,
  "nbformat_minor": 0
}
