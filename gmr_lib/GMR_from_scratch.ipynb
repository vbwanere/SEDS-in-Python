{
  "cells": [
    {
      "cell_type": "markdown",
      "metadata": {
        "id": "view-in-github",
        "colab_type": "text"
      },
      "source": [
        "<a href=\"https://colab.research.google.com/github/vbwanere/SEDS_in_jax/blob/main/gmr_lib/GMR_from_scratch.ipynb\" target=\"_parent\"><img src=\"https://colab.research.google.com/assets/colab-badge.svg\" alt=\"Open In Colab\"/></a>"
      ]
    },
    {
      "cell_type": "markdown",
      "metadata": {
        "id": "zza7h5yeVnfO"
      },
      "source": [
        "# **GMR from scratch**"
      ]
    },
    {
      "cell_type": "markdown",
      "metadata": {
        "id": "yEqAod25C3_m"
      },
      "source": [
        "Python jax implementation of Gaussian Mixture Regression Model"
      ]
    },
    {
      "cell_type": "markdown",
      "metadata": {
        "id": "088rFBYIYySc"
      },
      "source": [
        "# 1\\. Introduction:"
      ]
    },
    {
      "cell_type": "markdown",
      "metadata": {
        "id": "Cm5GFIndC3_n"
      },
      "source": [
        "We estimate a joint density of the inputs $x\\  \\epsilon \\ \\mathbb R^N$ and outputs $\\dot x \\ \\epsilon \\ \\mathbb R^P$ through a K-component Gaussian mixture model as follows:\n",
        "\n",
        "\\begin{equation}\n",
        "\\tag{1}\n",
        "p(x, \\dot x|\\Theta) = \\sum_{k=1}^{K} \\pi_k p(x, \\dot x|\\mu^k \\Sigma^k)\n",
        "\\end{equation}\n",
        "\n",
        "where,\\\n",
        "$\\sum_{k=1}^{K} \\pi_k = 1$ and $\\mu^k = \\begin{bmatrix}\n",
        "\\mu_{x}^{k}\\\\\n",
        "\\mu_{\\dot x}^{k}\n",
        "\\end{bmatrix}$,\n",
        "and $\\ \\Sigma^k =\n",
        "\\begin{bmatrix}\n",
        "\\Sigma_{xx}^{k} & \\Sigma_{x\\dot x}^{k} \\\\\n",
        "\\Sigma_{\\dot xx}^{k} & \\Sigma_{\\dot x \\dot x}^{k}\n",
        "\\end{bmatrix}$.\n",
        "\n",
        "The conditional density is given by:\n",
        "\\begin{equation}\n",
        "\\tag{2}\n",
        "p(\\dot x|x) = \\sum_{k=1}^{K} \\gamma_k p(y|x;\\mu^k \\Sigma^k)\n",
        "\\end{equation}\n",
        "\n",
        "where,\n",
        "\\begin{equation}\n",
        "\\tag{3}\n",
        "\\gamma_k = \\frac{\\pi_k p(x|\\mu_x^k, \\Sigma_{xx}^k)}{\\sum_{k=1}^{K} \\pi_k p(x|\\mu_x^k, \\Sigma_{xx}^k)}\n",
        "\\end{equation}"
      ]
    },
    {
      "cell_type": "markdown",
      "metadata": {
        "id": "tA4s2Ke1C3_n"
      },
      "source": [
        "The regressive function $\\dot x = f(x)$ is given by the expectation over this conditional density:\n",
        "\\begin{equation}\n",
        "\\tag{4}\n",
        "\\dot x = f(x) = \\mathbf E[p(\\dot x|x)] = \\sum_{k=1}^{K} \\gamma_k(x)\\tilde \\mu^k(x)\n",
        "\\end{equation}\n",
        "\n",
        "where,\n",
        "\\begin{equation}\n",
        "\\tag{4}\n",
        "\\tilde \\mu = \\mu_{\\dot x}^k + \\Sigma_{\\dot x x}^k(\\Sigma_{x x}^k)^{-1}(x - \\mu_x^k)\n",
        "\\end{equation}\n"
      ]
    },
    {
      "cell_type": "markdown",
      "metadata": {
        "id": "LcnPaQKRC3_o"
      },
      "source": [
        "## 1.1 Undestanding the dataset:"
      ]
    },
    {
      "cell_type": "markdown",
      "metadata": {
        "id": "O9V6kaTLC3_o"
      },
      "source": [
        "1. Inputs $x \\ \\epsilon \\ \\mathbb R^N$, for $M$ number of trajectories with each of length $T_m$ we have for $m^{th}$ trajectory:\n",
        "\\begin{equation}\n",
        "X_m =\n",
        "\\begin{bmatrix}\n",
        "x_1^1 & x_1^2 & ....... & x_1^{T_m}\\\\\n",
        "& & &\\\\\n",
        "x_N^1 & x_N^2 & ....... & x_N^{T_m}\\\\\n",
        "\\end{bmatrix}\n",
        "\\end{equation}\n",
        "\n",
        "where, $m \\ \\epsilon \\  \\{1,....,M\\}$, and $\\{\\mathbf X, \\dot{\\mathbf X}\\} = \\{X^m, \\dot X^m\\}_{m=1}^{M} = \\{\\{{x^{t,m}, {\\dot x^{t,m}}\\}_{t=1}^{T_m}}\\}_{m=1}^{M}$."
      ]
    },
    {
      "cell_type": "markdown",
      "metadata": {
        "id": "6qTHFyX4yA29"
      },
      "source": [
        "# 2\\. `GMR` class:"
      ]
    },
    {
      "cell_type": "code",
      "execution_count": null,
      "metadata": {
        "id": "BocosIhWC3_p"
      },
      "outputs": [],
      "source": [
        "import jax.numpy as np\n",
        "from jax import grad, jacfwd, jit, random, vmap\n",
        "from jax.scipy.stats import multivariate_normal\n",
        "import matplotlib.pyplot as plt"
      ]
    },
    {
      "cell_type": "code",
      "execution_count": null,
      "metadata": {
        "id": "4LluW8hWC3_q"
      },
      "outputs": [],
      "source": []
    },
    {
      "cell_type": "markdown",
      "metadata": {
        "id": "dY_cXo3-C3_q"
      },
      "source": [
        "sample figure here"
      ]
    },
    {
      "cell_type": "markdown",
      "metadata": {
        "id": "2ExL9IG1yW6a"
      },
      "source": [
        "## 1.2 Subsection 2:"
      ]
    },
    {
      "cell_type": "code",
      "execution_count": null,
      "metadata": {
        "id": "CR30IgmfCdLY"
      },
      "outputs": [],
      "source": [
        "\"\"\"\n",
        "sample code here\n",
        "\"\"\""
      ]
    },
    {
      "cell_type": "markdown",
      "metadata": {
        "id": "HJfARyN8CdLZ"
      },
      "source": [
        "### 1.2.1 item 1:"
      ]
    },
    {
      "cell_type": "code",
      "execution_count": null,
      "metadata": {
        "id": "TtlMyrxNCdLZ"
      },
      "outputs": [],
      "source": [
        "\"\"\"\n",
        "sample code here\n",
        "\"\"\""
      ]
    },
    {
      "cell_type": "markdown",
      "metadata": {
        "id": "FfplmKDVCdLZ"
      },
      "source": [
        "### 1.2.2 item 2:"
      ]
    },
    {
      "cell_type": "code",
      "execution_count": null,
      "metadata": {
        "id": "NB0Bbu1eF_Di"
      },
      "outputs": [],
      "source": [
        "\"\"\"\n",
        "sample code here\n",
        "\"\"\""
      ]
    },
    {
      "cell_type": "markdown",
      "metadata": {
        "id": "ZoqiWpv33pC3"
      },
      "source": [
        "# 2\\. Section 2:"
      ]
    },
    {
      "cell_type": "markdown",
      "metadata": {
        "id": "0xk0UZ_h30xU"
      },
      "source": [
        "## 2.1\\. Subsection 1:\n",
        "### Subsection description in one line:"
      ]
    }
  ],
  "metadata": {
    "colab": {
      "provenance": [],
      "include_colab_link": true
    },
    "kernelspec": {
      "display_name": "Python 3",
      "name": "python3"
    },
    "language_info": {
      "codemirror_mode": {
        "name": "ipython",
        "version": 3
      },
      "file_extension": ".py",
      "mimetype": "text/x-python",
      "name": "python",
      "nbconvert_exporter": "python",
      "pygments_lexer": "ipython3",
      "version": "3.10.12"
    }
  },
  "nbformat": 4,
  "nbformat_minor": 0
}